{
 "cells": [
  {
   "cell_type": "code",
   "execution_count": 128,
   "id": "74e92796-8733-417b-a086-eb139b86ae23",
   "metadata": {},
   "outputs": [],
   "source": [
    "import pandas as pd\n",
    "import requests"
   ]
  },
  {
   "cell_type": "code",
   "execution_count": 130,
   "id": "8e7814cd-7e97-4083-ba5f-5367995af34a",
   "metadata": {},
   "outputs": [],
   "source": [
    "# Function to fetch data from the Census API\n",
    "def fetch_census_data(url, params):\n",
    "    response = requests.get(url, params=params)\n",
    "    if response.status_code == 200:\n",
    "        data = response.json()\n",
    "        return pd.DataFrame(data[1:], columns=data[0])\n",
    "    else:\n",
    "        print(f\"Error: {response.status_code} - {response.text}\")\n",
    "        return pd.DataFrame()"
   ]
  },
  {
   "cell_type": "code",
   "execution_count": 132,
   "id": "c2e1bba2-408a-4883-bf9b-bc6036c58cb5",
   "metadata": {},
   "outputs": [],
   "source": [
    "# Define endpoints\n",
    "url_decennial = 'https://api.census.gov/data/2020/dec/pl'\n",
    "url_acs = 'https://api.census.gov/data/2020/acs/acs5'"
   ]
  },
  {
   "cell_type": "code",
   "execution_count": 134,
   "id": "5a92a989-331a-421b-b277-9b4ad510421f",
   "metadata": {},
   "outputs": [],
   "source": [
    "# Parameters for Decennial Census\n",
    "params_decennial = {\n",
    "    'get': 'NAME,P1_001N,P1_002N,P1_026N',\n",
    "    'for': 'county:*',\n",
    "    'in': 'state:*'\n",
    "}\n",
    "# Parameters for ACS (income data)\n",
    "params_acs = {\n",
    "    'get': 'NAME,B19013_001E,B19013_001M',\n",
    "    'for': 'county:*',\n",
    "    'in': 'state:*'\n",
    "}"
   ]
  },
  {
   "cell_type": "code",
   "execution_count": 136,
   "id": "ab368983-b771-4747-ad5d-31490c842eab",
   "metadata": {},
   "outputs": [],
   "source": [
    "# Fetch data from both APIs\n",
    "df_decennial = fetch_census_data(url_decennial, params_decennial)\n",
    "df_acs = fetch_census_data(url_acs, params_acs)\n"
   ]
  },
  {
   "cell_type": "code",
   "execution_count": 137,
   "id": "d292c4e0-0375-44fb-b01e-a6bae5aff826",
   "metadata": {},
   "outputs": [
    {
     "name": "stdout",
     "output_type": "stream",
     "text": [
      "                      NAME P1_001N P1_002N P1_026N state county\n",
      "0  Autauga County, Alabama   58805   55648     168    01    001\n",
      "1  Baldwin County, Alabama  231767  216743     600    01    003\n",
      "2  Barbour County, Alabama   25223   24523      28    01    005\n",
      "3     Bibb County, Alabama   22293   21534      49    01    007\n",
      "4   Blount County, Alabama   59134   55478     109    01    009\n",
      "                      NAME B19013_001E B19013_001M state county\n",
      "0  Autauga County, Alabama       57982        4839    01    001\n",
      "1  Baldwin County, Alabama       61756        2268    01    003\n",
      "2  Barbour County, Alabama       34990        2909    01    005\n",
      "3     Bibb County, Alabama       51721        6237    01    007\n",
      "4   Blount County, Alabama       48922        2269    01    009\n"
     ]
    }
   ],
   "source": [
    "print(df_decennial.head())\n",
    "print(df_acs.head())\n"
   ]
  },
  {
   "cell_type": "code",
   "execution_count": 138,
   "id": "81c2ef79-8edd-4871-a181-74e35698fc1e",
   "metadata": {},
   "outputs": [
    {
     "name": "stdout",
     "output_type": "stream",
     "text": [
      "Renamed Decennial Data Columns: Index(['County_State', 'Total_Population', 'Male_Population',\n",
      "       'Female_Population', 'State_Code', 'County_Code'],\n",
      "      dtype='object')\n",
      "Renamed ACS Data Columns: Index(['County_State', 'Median_Income', 'Margin_Error_Income', 'State_Code',\n",
      "       'County_Code'],\n",
      "      dtype='object')\n"
     ]
    }
   ],
   "source": [
    "# Rename columns for decennial data\n",
    "df_decennial.rename(columns={\n",
    "    'NAME': 'County_State',  \n",
    "    'P1_001N': 'Total_Population',  \n",
    "    'P1_002N': 'Male_Population',\n",
    "    'P1_026N': 'Female_Population',\n",
    "    'state': 'State_Code',\n",
    "    'county': 'County_Code'\n",
    "}, inplace=True)\n",
    "\n",
    "# Rename columns for ACS data\n",
    "df_acs.rename(columns={\n",
    "    'NAME': 'County_State',\n",
    "    'B19013_001E': 'Median_Income',\n",
    "    'B19013_001M': 'Margin_Error_Income',\n",
    "    'state': 'State_Code',\n",
    "    'county': 'County_Code'\n",
    "}, inplace=True)\n",
    "\n",
    "# Debug: Check if renaming worked\n",
    "print(\"Renamed Decennial Data Columns:\", df_decennial.columns)\n",
    "print(\"Renamed ACS Data Columns:\", df_acs.columns)\n"
   ]
  },
  {
   "cell_type": "code",
   "execution_count": 142,
   "id": "7c1cf13a-14cd-46f9-9567-bbc5c2cb9dd4",
   "metadata": {},
   "outputs": [],
   "source": [
    "for col in ['Total_Population', 'Male_Population', 'Female_Population', 'Median_Income', 'Margin_Error_Income', 'Median_Earnings']:\n",
    "    if col in df_decennial.columns:\n",
    "        df_decennial[col] = pd.to_numeric(df_decennial[col], errors='coerce')\n",
    "    if col in df_acs.columns:\n",
    "        df_acs[col] = pd.to_numeric(df_acs[col], errors='coerce')\n"
   ]
  },
  {
   "cell_type": "code",
   "execution_count": 144,
   "id": "c803dabb-0a83-4c18-9247-4fbcebd92608",
   "metadata": {},
   "outputs": [
    {
     "name": "stdout",
     "output_type": "stream",
     "text": [
      "Merged DataFrame Columns: Index(['County_State', 'Total_Population', 'Male_Population',\n",
      "       'Female_Population', 'State_Code', 'County_Code', 'Median_Income',\n",
      "       'Margin_Error_Income'],\n",
      "      dtype='object')\n",
      "              County_State  Total_Population  Male_Population  \\\n",
      "0  Autauga County, Alabama             58805            55648   \n",
      "1  Baldwin County, Alabama            231767           216743   \n",
      "2  Barbour County, Alabama             25223            24523   \n",
      "3     Bibb County, Alabama             22293            21534   \n",
      "4   Blount County, Alabama             59134            55478   \n",
      "\n",
      "   Female_Population State_Code County_Code  Median_Income  \\\n",
      "0                168         01         001          57982   \n",
      "1                600         01         003          61756   \n",
      "2                 28         01         005          34990   \n",
      "3                 49         01         007          51721   \n",
      "4                109         01         009          48922   \n",
      "\n",
      "   Margin_Error_Income  \n",
      "0                 4839  \n",
      "1                 2268  \n",
      "2                 2909  \n",
      "3                 6237  \n",
      "4                 2269  \n"
     ]
    }
   ],
   "source": [
    "# Check if 'Median_Earnings' exists before merging\n",
    "columns_to_merge = ['County_State', 'State_Code', 'County_Code', 'Median_Income', 'Margin_Error_Income']\n",
    "if 'Median_Earnings' in df_acs.columns:\n",
    "    columns_to_merge.append('Median_Earnings')\n",
    "\n",
    "# Perform the merge\n",
    "df_merged = pd.merge(\n",
    "    df_decennial,\n",
    "    df_acs[columns_to_merge],\n",
    "    on=['County_State', 'State_Code', 'County_Code'],\n",
    "    how='inner'\n",
    ")\n",
    "\n",
    "# Inspect the merged DataFrame\n",
    "print(\"Merged DataFrame Columns:\", df_merged.columns)\n",
    "print(df_merged.head())\n"
   ]
  },
  {
   "cell_type": "code",
   "execution_count": 158,
   "id": "2e483675-7ab5-4673-9558-43045084d260",
   "metadata": {},
   "outputs": [
    {
     "name": "stdout",
     "output_type": "stream",
     "text": [
      "Final data saved to final_merged_data.csv\n"
     ]
    }
   ],
   "source": [
    "if not df_decennial.empty and not df_acs.empty:\n",
    "    # Merge DataFrames on common keys\n",
    "    df = pd.merge(\n",
    "        df_decennial,\n",
    "        df_acs[['County_State', 'State_Code', 'County_Code', 'Median_Income', 'Margin_Error_Income']],\n",
    "        on=['County_State', 'State_Code', 'County_Code'],\n",
    "        how='inner'\n",
    "    )\n",
    "    \n",
    "    # Calculate percentages for male and female populations\n",
    "    df['Percent_Male'] = (df['Male_Population'] / df['Total_Population'] * 100).round(2)\n",
    "    df['Percent_Female'] = (df['Female_Population'] / df['Total_Population'] * 100).round(2)\n",
    "    \n",
    "    #Save merged DataFrame to CSV\n",
    "    csv_filename = 'final_merged_data.csv'\n",
    "    df.to_csv(csv_filename, index=False)\n",
    "    print(f\"Final data saved to {csv_filename}\")\n",
    "else:\n",
    "    print(\"Cannot merge: One or both DataFrames are empty.\")"
   ]
  },
  {
   "cell_type": "code",
   "execution_count": null,
   "id": "451a460f-8aa0-4039-8d24-7c310321b52f",
   "metadata": {},
   "outputs": [],
   "source": []
  }
 ],
 "metadata": {
  "kernelspec": {
   "display_name": "dev",
   "language": "python",
   "name": "dev"
  },
  "language_info": {
   "codemirror_mode": {
    "name": "ipython",
    "version": 3
   },
   "file_extension": ".py",
   "mimetype": "text/x-python",
   "name": "python",
   "nbconvert_exporter": "python",
   "pygments_lexer": "ipython3",
   "version": "3.10.14"
  }
 },
 "nbformat": 4,
 "nbformat_minor": 5
}
