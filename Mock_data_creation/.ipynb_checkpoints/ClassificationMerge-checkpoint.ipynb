{
 "cells": [
  {
   "cell_type": "code",
   "execution_count": 18,
   "id": "11c0e2ed-dcfb-421a-8167-19e0104dd402",
   "metadata": {},
   "outputs": [],
   "source": [
    "# Import Dependencies\n",
    "import pandas as pd"
   ]
  },
  {
   "cell_type": "code",
   "execution_count": 20,
   "id": "0d71ea73-568d-40d7-9df8-ef94e2d27790",
   "metadata": {},
   "outputs": [],
   "source": [
    "# Read in data\n",
    "nn = pd.read_csv(\"../Data/classification_report_NeuralNetwork.csv\")\n",
    "tree = pd.read_csv(\"../Data/classification_report_DecisionTree.csv\")\n",
    "kn = pd.read_csv(\"../Data/classification_report_KNeighbors.csv\")\n",
    "log = pd.read_csv(\"../Data/classification_report_LogisticRegression.csv\")\n",
    "gb = pd.read_csv(\"../Data/classification_report_GradientBoosting.csv\")\n",
    "forest = pd.read_csv(\"../Data/classification_report_RandomForest.csv\")"
   ]
  },
  {
   "cell_type": "code",
   "execution_count": 22,
   "id": "f85413ba-59b2-44aa-bdf5-d8296e8e6958",
   "metadata": {},
   "outputs": [],
   "source": [
    "# Merge data frames vertically\n",
    "combined_df = pd.concat([nn, tree, kn, log, gb, forest], ignore_index=True)"
   ]
  },
  {
   "cell_type": "code",
   "execution_count": 24,
   "id": "7c39aaa2-ae5e-4eb6-8560-79de8b925c09",
   "metadata": {},
   "outputs": [],
   "source": [
    "# Data Cleaning\n",
    "combined_df['class'] = combined_df['class'].replace({'>50K': 1, '<=50K': 0})"
   ]
  },
  {
   "cell_type": "code",
   "execution_count": 26,
   "id": "fa3acc1b-d7be-4a33-bd59-af8bde778d0b",
   "metadata": {},
   "outputs": [],
   "source": [
    "# Export Data\n",
    "combined_df.to_csv(\"../Data/mergedClassificationReport.csv\")"
   ]
  }
 ],
 "metadata": {
  "kernelspec": {
   "display_name": "Python 3 (ipykernel)",
   "language": "python",
   "name": "python3"
  },
  "language_info": {
   "codemirror_mode": {
    "name": "ipython",
    "version": 3
   },
   "file_extension": ".py",
   "mimetype": "text/x-python",
   "name": "python",
   "nbconvert_exporter": "python",
   "pygments_lexer": "ipython3",
   "version": "3.12.3"
  },
  "widgets": {
   "application/vnd.jupyter.widget-state+json": {
    "state": {},
    "version_major": 2,
    "version_minor": 0
   }
  }
 },
 "nbformat": 4,
 "nbformat_minor": 5
}
