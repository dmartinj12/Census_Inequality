{
 "cells": [
  {
   "cell_type": "code",
   "execution_count": null,
   "id": "5512c598-2da6-4811-b5c0-883b192bd94e",
   "metadata": {},
   "outputs": [
    {
     "name": "stdout",
     "output_type": "stream",
     "text": [
      "     B09001_001E state county\n",
      "0          13143    01    001\n",
      "1          46993    01    003\n",
      "2           5222    01    005\n",
      "3           4584    01    007\n",
      "4          13372    01    009\n",
      "...          ...   ...    ...\n",
      "3216        3353    27    129\n",
      "3217        3683    27    135\n",
      "3218       25340    27    141\n",
      "3219        9217    27    147\n",
      "3220        5858    27    153\n",
      "\n",
      "[3221 rows x 3 columns]\n",
      "Cleaned Data Table with State Names:\n",
      "  State_Name State_Code County_Code FIPS_Code  Population_Under_18\n",
      "0    Alabama         01         001     01001                13143\n",
      "1    Alabama         01         003     01003                46993\n",
      "2    Alabama         01         005     01005                 5222\n",
      "3    Alabama         01         007     01007                 4584\n",
      "4    Alabama         01         009     01009                13372\n"
     ]
    }
   ],
   "source": []
  },
  {
   "cell_type": "code",
   "execution_count": null,
   "id": "da535876-cafc-4196-902a-100efcf75e6f",
   "metadata": {},
   "outputs": [],
   "source": []
  }
 ],
 "metadata": {
  "kernelspec": {
   "display_name": "dev",
   "language": "python",
   "name": "dev"
  },
  "language_info": {
   "codemirror_mode": {
    "name": "ipython",
    "version": 3
   },
   "file_extension": ".py",
   "mimetype": "text/x-python",
   "name": "python",
   "nbconvert_exporter": "python",
   "pygments_lexer": "ipython3",
   "version": "3.10.14"
  }
 },
 "nbformat": 4,
 "nbformat_minor": 5
}
