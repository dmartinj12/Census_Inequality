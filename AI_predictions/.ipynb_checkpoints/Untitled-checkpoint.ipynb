{
 "cells": [
  {
   "cell_type": "code",
   "execution_count": 1,
   "id": "64b8cbf6-a3f4-47b0-bc92-3d1705ecb446",
   "metadata": {},
   "outputs": [],
   "source": [
    "import pandas as pd\n",
    "# Display all rows\n",
    "pd.set_option('display.max_rows', None)\n",
    "\n",
    "# Display all columns\n",
    "pd.set_option('display.max_columns', None)\n",
    "\n",
    "# Show the full width of the content\n",
    "pd.set_option('display.width', None)"
   ]
  },
  {
   "cell_type": "code",
   "execution_count": 28,
   "id": "77b0e4ef-6451-4f8d-b131-e784ae5feb00",
   "metadata": {},
   "outputs": [],
   "source": [
    "Gradient = pd.read_csv(\"../Data/GradientBoosting.csv\")\n",
    "RandomForest = pd.read_csv(\"../Data/RandomForest.csv\")\n",
    "KNeighbors = pd.read_csv(\"../Data/KNeighbors.csv\")\n",
    "Actual = pd.read_csv(\"../Data/AdultCensusUpdated.csv\")"
   ]
  },
  {
   "cell_type": "code",
   "execution_count": 30,
   "id": "d9d4d77d-dae7-4b26-8b21-2a178f0624bf",
   "metadata": {},
   "outputs": [
    {
     "data": {
      "text/plain": [
       "Index(['index', 'age', 'workclass', 'education_num', 'marital_status',\n",
       "       'occupation', 'relationship', 'race', 'sex', 'hours_per_week', 'income',\n",
       "       'state', 'Results', 'Model'],\n",
       "      dtype='object')"
      ]
     },
     "execution_count": 30,
     "metadata": {},
     "output_type": "execute_result"
    }
   ],
   "source": [
    "Gradient.columns"
   ]
  },
  {
   "cell_type": "code",
   "execution_count": 32,
   "id": "fedf9b4b-bd84-4765-9fb8-313864a4deb8",
   "metadata": {},
   "outputs": [
    {
     "data": {
      "text/plain": [
       "Index(['Unnamed: 0', 'age', 'workclass', 'fnlwgt', 'education',\n",
       "       'education.num', 'marital.status', 'occupation', 'relationship', 'race',\n",
       "       'sex', 'capital.gain', 'capital.loss', 'hours.per.week',\n",
       "       'native.country', 'income', 'State', 'Results', 'Model'],\n",
       "      dtype='object')"
      ]
     },
     "execution_count": 32,
     "metadata": {},
     "output_type": "execute_result"
    }
   ],
   "source": [
    "KNeighbors.columns"
   ]
  },
  {
   "cell_type": "code",
   "execution_count": 34,
   "id": "b0ba1aa8-e886-4e1f-839a-b77b5ac90e42",
   "metadata": {},
   "outputs": [
    {
     "name": "stderr",
     "output_type": "stream",
     "text": [
      "C:\\Users\\marti\\AppData\\Local\\Temp\\ipykernel_16220\\2310900692.py:1: FutureWarning: Downcasting behavior in `replace` is deprecated and will be removed in a future version. To retain the old behavior, explicitly call `result.infer_objects(copy=False)`. To opt-in to the future behavior, set `pd.set_option('future.no_silent_downcasting', True)`\n",
      "  RandomForest['Results'] = RandomForest['Results'].replace({'>50K': 1, '<=50K': 0})\n",
      "C:\\Users\\marti\\AppData\\Local\\Temp\\ipykernel_16220\\2310900692.py:2: FutureWarning: Downcasting behavior in `replace` is deprecated and will be removed in a future version. To retain the old behavior, explicitly call `result.infer_objects(copy=False)`. To opt-in to the future behavior, set `pd.set_option('future.no_silent_downcasting', True)`\n",
      "  Gradient['Results'] = Gradient['Results'].replace({'>50K': 1, '<=50K': 0})\n"
     ]
    }
   ],
   "source": [
    "RandomForest['Results'] = RandomForest['Results'].replace({'>50K': 1, '<=50K': 0})\n",
    "Gradient['Results'] = Gradient['Results'].replace({'>50K': 1, '<=50K': 0})"
   ]
  },
  {
   "cell_type": "code",
   "execution_count": 36,
   "id": "c3874d1e-5a12-4976-98a1-7e0a80e05198",
   "metadata": {},
   "outputs": [],
   "source": [
    "KNeighbors = KNeighbors.drop(columns= [\"fnlwgt\", \"education\", \"capital.gain\", \"capital.loss\", \"native.country\"])\n",
    "KNeighbors.columns = ['index', 'age', 'workclass', 'education_num', 'marital_status',\n",
    "       'occupation', 'relationship', 'race', 'sex', 'hours_per_week', 'income',\n",
    "       'state', 'Results', 'Model']\n"
   ]
  },
  {
   "cell_type": "code",
   "execution_count": 38,
   "id": "8312b4ba-dfbb-4891-be27-933ce1c9eb10",
   "metadata": {},
   "outputs": [
    {
     "data": {
      "text/plain": [
       "Index(['age', 'workclass', 'fnlwgt', 'education', 'education.num',\n",
       "       'marital.status', 'occupation', 'relationship', 'race', 'sex',\n",
       "       'capital.gain', 'capital.loss', 'hours.per.week', 'native.country',\n",
       "       'income', 'State'],\n",
       "      dtype='object')"
      ]
     },
     "execution_count": 38,
     "metadata": {},
     "output_type": "execute_result"
    }
   ],
   "source": [
    "Actual.columns"
   ]
  },
  {
   "cell_type": "code",
   "execution_count": 40,
   "id": "7908ba7e-103b-4f14-8429-e3a1e49ae750",
   "metadata": {},
   "outputs": [],
   "source": [
    "# Combine the dataframes row-wise\n",
    "combined_df = pd.concat([Gradient, RandomForest, KNeighbors], ignore_index=True)"
   ]
  },
  {
   "cell_type": "code",
   "execution_count": 42,
   "id": "349ebb8d-6fc4-4fc0-9a8d-9c49e23355e6",
   "metadata": {},
   "outputs": [],
   "source": [
    "X = len(Actual)\n",
    "null_values = []\n",
    "model = []\n",
    "for y in range(len(Actual)):\n",
    "    null_values.append(\"N/A\")\n",
    "    model.append(\"Actual\")\n",
    "Actual[\"index\"] = null_values\n",
    "Actual[\"Results\"] = null_values\n",
    "Actual[\"Model\"] = model"
   ]
  },
  {
   "cell_type": "code",
   "execution_count": 44,
   "id": "106b1055-5e95-4457-9c9c-478e21fd869c",
   "metadata": {},
   "outputs": [
    {
     "data": {
      "text/plain": [
       "Index(['age', 'workclass', 'education.num', 'marital.status', 'occupation',\n",
       "       'relationship', 'race', 'sex', 'hours.per.week', 'income', 'State',\n",
       "       'index', 'Results', 'Model'],\n",
       "      dtype='object')"
      ]
     },
     "execution_count": 44,
     "metadata": {},
     "output_type": "execute_result"
    }
   ],
   "source": [
    "Actual = Actual.drop(columns= [\"fnlwgt\", \"education\", \"capital.gain\", \"capital.loss\", \"native.country\"])\n",
    "Actual.columns"
   ]
  },
  {
   "cell_type": "code",
   "execution_count": 51,
   "id": "973c48f8-071c-4c0d-b4d1-ce59bc32ba36",
   "metadata": {},
   "outputs": [
    {
     "ename": "KeyError",
     "evalue": "\"['state'] not in index\"",
     "output_type": "error",
     "traceback": [
      "\u001b[1;31m---------------------------------------------------------------------------\u001b[0m",
      "\u001b[1;31mKeyError\u001b[0m                                  Traceback (most recent call last)",
      "Cell \u001b[1;32mIn[51], line 5\u001b[0m\n\u001b[0;32m      1\u001b[0m \u001b[38;5;66;03m# Reorder df2 columns manually\u001b[39;00m\n\u001b[0;32m      2\u001b[0m desired_columns \u001b[38;5;241m=\u001b[39m [\u001b[38;5;124m'\u001b[39m\u001b[38;5;124mindex\u001b[39m\u001b[38;5;124m'\u001b[39m, \u001b[38;5;124m'\u001b[39m\u001b[38;5;124mage\u001b[39m\u001b[38;5;124m'\u001b[39m, \u001b[38;5;124m'\u001b[39m\u001b[38;5;124mworkclass\u001b[39m\u001b[38;5;124m'\u001b[39m, \u001b[38;5;124m'\u001b[39m\u001b[38;5;124meducation.num\u001b[39m\u001b[38;5;124m'\u001b[39m, \u001b[38;5;124m'\u001b[39m\u001b[38;5;124mmarital.status\u001b[39m\u001b[38;5;124m'\u001b[39m,\n\u001b[0;32m      3\u001b[0m        \u001b[38;5;124m'\u001b[39m\u001b[38;5;124moccupation\u001b[39m\u001b[38;5;124m'\u001b[39m, \u001b[38;5;124m'\u001b[39m\u001b[38;5;124mrelationship\u001b[39m\u001b[38;5;124m'\u001b[39m, \u001b[38;5;124m'\u001b[39m\u001b[38;5;124mrace\u001b[39m\u001b[38;5;124m'\u001b[39m, \u001b[38;5;124m'\u001b[39m\u001b[38;5;124msex\u001b[39m\u001b[38;5;124m'\u001b[39m, \u001b[38;5;124m'\u001b[39m\u001b[38;5;124mhours.per.week\u001b[39m\u001b[38;5;124m'\u001b[39m, \u001b[38;5;124m'\u001b[39m\u001b[38;5;124mincome\u001b[39m\u001b[38;5;124m'\u001b[39m,\n\u001b[0;32m      4\u001b[0m        \u001b[38;5;124m'\u001b[39m\u001b[38;5;124mstate\u001b[39m\u001b[38;5;124m'\u001b[39m, \u001b[38;5;124m'\u001b[39m\u001b[38;5;124mResults\u001b[39m\u001b[38;5;124m'\u001b[39m, \u001b[38;5;124m'\u001b[39m\u001b[38;5;124mModel\u001b[39m\u001b[38;5;124m'\u001b[39m]\n\u001b[1;32m----> 5\u001b[0m Actual \u001b[38;5;241m=\u001b[39m Actual[desired_columns]\n",
      "File \u001b[1;32m~\\anaconda3\\Lib\\site-packages\\pandas\\core\\frame.py:4108\u001b[0m, in \u001b[0;36mDataFrame.__getitem__\u001b[1;34m(self, key)\u001b[0m\n\u001b[0;32m   4106\u001b[0m     \u001b[38;5;28;01mif\u001b[39;00m is_iterator(key):\n\u001b[0;32m   4107\u001b[0m         key \u001b[38;5;241m=\u001b[39m \u001b[38;5;28mlist\u001b[39m(key)\n\u001b[1;32m-> 4108\u001b[0m     indexer \u001b[38;5;241m=\u001b[39m \u001b[38;5;28mself\u001b[39m\u001b[38;5;241m.\u001b[39mcolumns\u001b[38;5;241m.\u001b[39m_get_indexer_strict(key, \u001b[38;5;124m\"\u001b[39m\u001b[38;5;124mcolumns\u001b[39m\u001b[38;5;124m\"\u001b[39m)[\u001b[38;5;241m1\u001b[39m]\n\u001b[0;32m   4110\u001b[0m \u001b[38;5;66;03m# take() does not accept boolean indexers\u001b[39;00m\n\u001b[0;32m   4111\u001b[0m \u001b[38;5;28;01mif\u001b[39;00m \u001b[38;5;28mgetattr\u001b[39m(indexer, \u001b[38;5;124m\"\u001b[39m\u001b[38;5;124mdtype\u001b[39m\u001b[38;5;124m\"\u001b[39m, \u001b[38;5;28;01mNone\u001b[39;00m) \u001b[38;5;241m==\u001b[39m \u001b[38;5;28mbool\u001b[39m:\n",
      "File \u001b[1;32m~\\anaconda3\\Lib\\site-packages\\pandas\\core\\indexes\\base.py:6200\u001b[0m, in \u001b[0;36mIndex._get_indexer_strict\u001b[1;34m(self, key, axis_name)\u001b[0m\n\u001b[0;32m   6197\u001b[0m \u001b[38;5;28;01melse\u001b[39;00m:\n\u001b[0;32m   6198\u001b[0m     keyarr, indexer, new_indexer \u001b[38;5;241m=\u001b[39m \u001b[38;5;28mself\u001b[39m\u001b[38;5;241m.\u001b[39m_reindex_non_unique(keyarr)\n\u001b[1;32m-> 6200\u001b[0m \u001b[38;5;28mself\u001b[39m\u001b[38;5;241m.\u001b[39m_raise_if_missing(keyarr, indexer, axis_name)\n\u001b[0;32m   6202\u001b[0m keyarr \u001b[38;5;241m=\u001b[39m \u001b[38;5;28mself\u001b[39m\u001b[38;5;241m.\u001b[39mtake(indexer)\n\u001b[0;32m   6203\u001b[0m \u001b[38;5;28;01mif\u001b[39;00m \u001b[38;5;28misinstance\u001b[39m(key, Index):\n\u001b[0;32m   6204\u001b[0m     \u001b[38;5;66;03m# GH 42790 - Preserve name from an Index\u001b[39;00m\n",
      "File \u001b[1;32m~\\anaconda3\\Lib\\site-packages\\pandas\\core\\indexes\\base.py:6252\u001b[0m, in \u001b[0;36mIndex._raise_if_missing\u001b[1;34m(self, key, indexer, axis_name)\u001b[0m\n\u001b[0;32m   6249\u001b[0m     \u001b[38;5;28;01mraise\u001b[39;00m \u001b[38;5;167;01mKeyError\u001b[39;00m(\u001b[38;5;124mf\u001b[39m\u001b[38;5;124m\"\u001b[39m\u001b[38;5;124mNone of [\u001b[39m\u001b[38;5;132;01m{\u001b[39;00mkey\u001b[38;5;132;01m}\u001b[39;00m\u001b[38;5;124m] are in the [\u001b[39m\u001b[38;5;132;01m{\u001b[39;00maxis_name\u001b[38;5;132;01m}\u001b[39;00m\u001b[38;5;124m]\u001b[39m\u001b[38;5;124m\"\u001b[39m)\n\u001b[0;32m   6251\u001b[0m not_found \u001b[38;5;241m=\u001b[39m \u001b[38;5;28mlist\u001b[39m(ensure_index(key)[missing_mask\u001b[38;5;241m.\u001b[39mnonzero()[\u001b[38;5;241m0\u001b[39m]]\u001b[38;5;241m.\u001b[39munique())\n\u001b[1;32m-> 6252\u001b[0m \u001b[38;5;28;01mraise\u001b[39;00m \u001b[38;5;167;01mKeyError\u001b[39;00m(\u001b[38;5;124mf\u001b[39m\u001b[38;5;124m\"\u001b[39m\u001b[38;5;132;01m{\u001b[39;00mnot_found\u001b[38;5;132;01m}\u001b[39;00m\u001b[38;5;124m not in index\u001b[39m\u001b[38;5;124m\"\u001b[39m)\n",
      "\u001b[1;31mKeyError\u001b[0m: \"['state'] not in index\""
     ]
    }
   ],
   "source": [
    "# Reorder df2 columns manually\n",
    "desired_columns = ['index', 'age', 'workclass', 'education.num', 'marital.status',\n",
    "       'occupation', 'relationship', 'race', 'sex', 'hours.per.week', 'income',\n",
    "       'tate', 'Results', 'Model']\n",
    "Actual = Actual[desired_columns]"
   ]
  },
  {
   "cell_type": "code",
   "execution_count": null,
   "id": "b965f081-4e36-4edb-a14f-fdb378c4c50f",
   "metadata": {},
   "outputs": [],
   "source": [
    "Actual.columns = ['index', 'age', 'workclass', 'education_num', 'marital_status',\n",
    "       'occupation', 'relationship', 'race', 'sex', 'hours_per_week', 'income',\n",
    "       'state', 'Results', 'Model']"
   ]
  },
  {
   "cell_type": "code",
   "execution_count": 11,
   "id": "2bffa0a0-b86e-4243-bb3f-5da7233d2e27",
   "metadata": {},
   "outputs": [],
   "source": [
    "# Combine the dataframes row-wise\n",
    "combined_df = pd.concat([combined_df, Actual], ignore_index=True)"
   ]
  },
  {
   "cell_type": "code",
   "execution_count": 12,
   "id": "bebf8768-d6e8-48fe-a402-f2326f5edaaf",
   "metadata": {},
   "outputs": [
    {
     "data": {
      "text/html": [
       "<div>\n",
       "<style scoped>\n",
       "    .dataframe tbody tr th:only-of-type {\n",
       "        vertical-align: middle;\n",
       "    }\n",
       "\n",
       "    .dataframe tbody tr th {\n",
       "        vertical-align: top;\n",
       "    }\n",
       "\n",
       "    .dataframe thead th {\n",
       "        text-align: right;\n",
       "    }\n",
       "</style>\n",
       "<table border=\"1\" class=\"dataframe\">\n",
       "  <thead>\n",
       "    <tr style=\"text-align: right;\">\n",
       "      <th></th>\n",
       "      <th>index</th>\n",
       "      <th>age</th>\n",
       "      <th>workclass</th>\n",
       "      <th>education_num</th>\n",
       "      <th>marital_status</th>\n",
       "      <th>occupation</th>\n",
       "      <th>relationship</th>\n",
       "      <th>race</th>\n",
       "      <th>sex</th>\n",
       "      <th>hours_per_week</th>\n",
       "      <th>income</th>\n",
       "      <th>state</th>\n",
       "      <th>Results</th>\n",
       "      <th>Model</th>\n",
       "    </tr>\n",
       "  </thead>\n",
       "  <tbody>\n",
       "    <tr>\n",
       "      <th>56057</th>\n",
       "      <td>22</td>\n",
       "      <td>Private</td>\n",
       "      <td>10</td>\n",
       "      <td>Never-married</td>\n",
       "      <td>Protective-serv</td>\n",
       "      <td>Not-in-family</td>\n",
       "      <td>White</td>\n",
       "      <td>Male</td>\n",
       "      <td>40</td>\n",
       "      <td>&lt;=50K</td>\n",
       "      <td>North Dakota</td>\n",
       "      <td>N/A</td>\n",
       "      <td>N/A</td>\n",
       "      <td>Actual</td>\n",
       "    </tr>\n",
       "    <tr>\n",
       "      <th>56058</th>\n",
       "      <td>27</td>\n",
       "      <td>Private</td>\n",
       "      <td>12</td>\n",
       "      <td>Married-civ-spouse</td>\n",
       "      <td>Tech-support</td>\n",
       "      <td>Wife</td>\n",
       "      <td>White</td>\n",
       "      <td>Female</td>\n",
       "      <td>38</td>\n",
       "      <td>&lt;=50K</td>\n",
       "      <td>Texas</td>\n",
       "      <td>N/A</td>\n",
       "      <td>N/A</td>\n",
       "      <td>Actual</td>\n",
       "    </tr>\n",
       "    <tr>\n",
       "      <th>56059</th>\n",
       "      <td>40</td>\n",
       "      <td>Private</td>\n",
       "      <td>9</td>\n",
       "      <td>Married-civ-spouse</td>\n",
       "      <td>Machine-op-inspct</td>\n",
       "      <td>Husband</td>\n",
       "      <td>White</td>\n",
       "      <td>Male</td>\n",
       "      <td>40</td>\n",
       "      <td>&gt;50K</td>\n",
       "      <td>Colorado</td>\n",
       "      <td>N/A</td>\n",
       "      <td>N/A</td>\n",
       "      <td>Actual</td>\n",
       "    </tr>\n",
       "    <tr>\n",
       "      <th>56060</th>\n",
       "      <td>58</td>\n",
       "      <td>Private</td>\n",
       "      <td>9</td>\n",
       "      <td>Widowed</td>\n",
       "      <td>Adm-clerical</td>\n",
       "      <td>Unmarried</td>\n",
       "      <td>White</td>\n",
       "      <td>Female</td>\n",
       "      <td>40</td>\n",
       "      <td>&lt;=50K</td>\n",
       "      <td>Kansas</td>\n",
       "      <td>N/A</td>\n",
       "      <td>N/A</td>\n",
       "      <td>Actual</td>\n",
       "    </tr>\n",
       "    <tr>\n",
       "      <th>56061</th>\n",
       "      <td>22</td>\n",
       "      <td>Private</td>\n",
       "      <td>9</td>\n",
       "      <td>Never-married</td>\n",
       "      <td>Adm-clerical</td>\n",
       "      <td>Own-child</td>\n",
       "      <td>White</td>\n",
       "      <td>Male</td>\n",
       "      <td>20</td>\n",
       "      <td>&lt;=50K</td>\n",
       "      <td>New Hampshire</td>\n",
       "      <td>N/A</td>\n",
       "      <td>N/A</td>\n",
       "      <td>Actual</td>\n",
       "    </tr>\n",
       "  </tbody>\n",
       "</table>\n",
       "</div>"
      ],
      "text/plain": [
       "       index      age workclass       education_num     marital_status  \\\n",
       "56057     22  Private        10       Never-married    Protective-serv   \n",
       "56058     27  Private        12  Married-civ-spouse       Tech-support   \n",
       "56059     40  Private         9  Married-civ-spouse  Machine-op-inspct   \n",
       "56060     58  Private         9             Widowed       Adm-clerical   \n",
       "56061     22  Private         9       Never-married       Adm-clerical   \n",
       "\n",
       "          occupation relationship    race sex hours_per_week         income  \\\n",
       "56057  Not-in-family        White    Male  40          <=50K   North Dakota   \n",
       "56058           Wife        White  Female  38          <=50K          Texas   \n",
       "56059        Husband        White    Male  40           >50K       Colorado   \n",
       "56060      Unmarried        White  Female  40          <=50K         Kansas   \n",
       "56061      Own-child        White    Male  20          <=50K  New Hampshire   \n",
       "\n",
       "      state Results   Model  \n",
       "56057   N/A     N/A  Actual  \n",
       "56058   N/A     N/A  Actual  \n",
       "56059   N/A     N/A  Actual  \n",
       "56060   N/A     N/A  Actual  \n",
       "56061   N/A     N/A  Actual  "
      ]
     },
     "execution_count": 12,
     "metadata": {},
     "output_type": "execute_result"
    }
   ],
   "source": [
    "combined_df.tail()"
   ]
  },
  {
   "cell_type": "code",
   "execution_count": 13,
   "id": "a07e6987-6744-4575-ac0e-020a94ae1f06",
   "metadata": {},
   "outputs": [],
   "source": [
    "combined_df.to_csv(\"../Data/mergedDataFrame.csv\")"
   ]
  },
  {
   "cell_type": "code",
   "execution_count": null,
   "id": "e26611ce-9a33-4f01-8ab2-fee164a60681",
   "metadata": {},
   "outputs": [],
   "source": []
  }
 ],
 "metadata": {
  "kernelspec": {
   "display_name": "Python 3 (ipykernel)",
   "language": "python",
   "name": "python3"
  },
  "language_info": {
   "codemirror_mode": {
    "name": "ipython",
    "version": 3
   },
   "file_extension": ".py",
   "mimetype": "text/x-python",
   "name": "python",
   "nbconvert_exporter": "python",
   "pygments_lexer": "ipython3",
   "version": "3.12.3"
  },
  "widgets": {
   "application/vnd.jupyter.widget-state+json": {
    "state": {},
    "version_major": 2,
    "version_minor": 0
   }
  }
 },
 "nbformat": 4,
 "nbformat_minor": 5
}
