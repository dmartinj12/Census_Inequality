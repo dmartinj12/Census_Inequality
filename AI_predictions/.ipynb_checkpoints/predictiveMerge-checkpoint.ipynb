{
 "cells": [
  {
   "cell_type": "code",
   "execution_count": 1,
   "id": "64b8cbf6-a3f4-47b0-bc92-3d1705ecb446",
   "metadata": {},
   "outputs": [],
   "source": [
    "# Import Dependencies\n",
    "import pandas as pd\n",
    "# Display all rows\n",
    "pd.set_option('display.max_rows', None)\n",
    "\n",
    "# Display all columns\n",
    "pd.set_option('display.max_columns', None)\n",
    "\n",
    "# Show the full width of the content\n",
    "pd.set_option('display.width', None)"
   ]
  },
  {
   "cell_type": "code",
   "execution_count": 2,
   "id": "77b0e4ef-6451-4f8d-b131-e784ae5feb00",
   "metadata": {},
   "outputs": [],
   "source": [
    "# Read in data\n",
    "Gradient = pd.read_csv(\"../Data/GradientBoosting.csv\")\n",
    "RandomForest = pd.read_csv(\"../Data/RandomForest.csv\")\n",
    "KNeighbors = pd.read_csv(\"../Data/KNeighbors.csv\")\n",
    "Actual = pd.read_csv(\"../Data/AdultCensusUpdated.csv\")\n",
    "NN = pd.read_csv(\"../Data/SequentialNN.csv\")\n",
    "DT = pd.read_csv(\"../Data/DecisionTree.csv\")"
   ]
  },
  {
   "cell_type": "code",
   "execution_count": 3,
   "id": "d9d4d77d-dae7-4b26-8b21-2a178f0624bf",
   "metadata": {},
   "outputs": [
    {
     "data": {
      "text/plain": [
       "Index(['index', 'age', 'workclass', 'education_num', 'marital_status',\n",
       "       'occupation', 'relationship', 'race', 'sex', 'hours_per_week', 'income',\n",
       "       'state', 'Results', 'Model'],\n",
       "      dtype='object')"
      ]
     },
     "execution_count": 3,
     "metadata": {},
     "output_type": "execute_result"
    }
   ],
   "source": [
    "# Column Names\n",
    "Gradient.columns"
   ]
  },
  {
   "cell_type": "code",
   "execution_count": 4,
   "id": "fedf9b4b-bd84-4765-9fb8-313864a4deb8",
   "metadata": {
    "scrolled": true
   },
   "outputs": [
    {
     "data": {
      "text/plain": [
       "Index(['Unnamed: 0', 'age', 'workclass', 'fnlwgt', 'education',\n",
       "       'education.num', 'marital.status', 'occupation', 'relationship', 'race',\n",
       "       'sex', 'capital.gain', 'capital.loss', 'hours.per.week',\n",
       "       'native.country', 'income', 'State', 'Results', 'Model'],\n",
       "      dtype='object')"
      ]
     },
     "execution_count": 4,
     "metadata": {},
     "output_type": "execute_result"
    }
   ],
   "source": [
    "# Column Names\n",
    "KNeighbors.columns"
   ]
  },
  {
   "cell_type": "code",
   "execution_count": 5,
   "id": "b0ba1aa8-e886-4e1f-839a-b77b5ac90e42",
   "metadata": {},
   "outputs": [
    {
     "name": "stderr",
     "output_type": "stream",
     "text": [
      "C:\\Users\\marti\\AppData\\Local\\Temp\\ipykernel_27940\\1224994744.py:2: FutureWarning: Downcasting behavior in `replace` is deprecated and will be removed in a future version. To retain the old behavior, explicitly call `result.infer_objects(copy=False)`. To opt-in to the future behavior, set `pd.set_option('future.no_silent_downcasting', True)`\n",
      "  RandomForest['Results'] = RandomForest['Results'].replace({'>50K': 1, '<=50K': 0})\n",
      "C:\\Users\\marti\\AppData\\Local\\Temp\\ipykernel_27940\\1224994744.py:3: FutureWarning: Downcasting behavior in `replace` is deprecated and will be removed in a future version. To retain the old behavior, explicitly call `result.infer_objects(copy=False)`. To opt-in to the future behavior, set `pd.set_option('future.no_silent_downcasting', True)`\n",
      "  Gradient['Results'] = Gradient['Results'].replace({'>50K': 1, '<=50K': 0})\n"
     ]
    }
   ],
   "source": [
    "# Data Cleaning\n",
    "RandomForest['Results'] = RandomForest['Results'].replace({'>50K': 1, '<=50K': 0})\n",
    "Gradient['Results'] = Gradient['Results'].replace({'>50K': 1, '<=50K': 0})"
   ]
  },
  {
   "cell_type": "code",
   "execution_count": 6,
   "id": "c3874d1e-5a12-4976-98a1-7e0a80e05198",
   "metadata": {},
   "outputs": [],
   "source": [
    "# Drop unnecessary columns\n",
    "KNeighbors = KNeighbors.drop(columns= [\"fnlwgt\", \"education\", \"capital.gain\", \"capital.loss\", \"native.country\"])\n",
    "DT = DT.drop(columns= [\"fnlwgt\", \"education\", \"capital.gain\", \"capital.loss\", \"native.country\"])\n",
    "# Rename Columns\n",
    "KNeighbors.columns = ['index', 'age', 'workclass', 'education_num', 'marital_status',\n",
    "       'occupation', 'relationship', 'race', 'sex', 'hours_per_week', 'income',\n",
    "       'state', 'Results', 'Model']\n",
    "DT.columns = ['index', 'age', 'workclass', 'education_num', 'marital_status',\n",
    "       'occupation', 'relationship', 'race', 'sex', 'hours_per_week', 'income',\n",
    "       'state', 'Results', 'Model']\n"
   ]
  },
  {
   "cell_type": "code",
   "execution_count": 7,
   "id": "8312b4ba-dfbb-4891-be27-933ce1c9eb10",
   "metadata": {},
   "outputs": [
    {
     "data": {
      "text/plain": [
       "Index(['age', 'workclass', 'fnlwgt', 'education', 'education.num',\n",
       "       'marital.status', 'occupation', 'relationship', 'race', 'sex',\n",
       "       'capital.gain', 'capital.loss', 'hours.per.week', 'native.country',\n",
       "       'income', 'State'],\n",
       "      dtype='object')"
      ]
     },
     "execution_count": 7,
     "metadata": {},
     "output_type": "execute_result"
    }
   ],
   "source": [
    "# Column Names\n",
    "Actual.columns"
   ]
  },
  {
   "cell_type": "code",
   "execution_count": 8,
   "id": "7908ba7e-103b-4f14-8429-e3a1e49ae750",
   "metadata": {},
   "outputs": [],
   "source": [
    "# Combine the dataframes row-wise\n",
    "combined_df = pd.concat([Gradient, RandomForest, KNeighbors, NN, DT], ignore_index=True)"
   ]
  },
  {
   "cell_type": "code",
   "execution_count": 9,
   "id": "349ebb8d-6fc4-4fc0-9a8d-9c49e23355e6",
   "metadata": {},
   "outputs": [],
   "source": [
    "# Clean data\n",
    "X = len(Actual)\n",
    "null_values = []\n",
    "model = []\n",
    "for y in range(len(Actual)):\n",
    "    null_values.append(\"N/A\")\n",
    "    model.append(\"Actual\")\n",
    "Actual[\"index\"] = null_values\n",
    "Actual[\"Results\"] = null_values\n",
    "Actual[\"Model\"] = model"
   ]
  },
  {
   "cell_type": "code",
   "execution_count": 10,
   "id": "106b1055-5e95-4457-9c9c-478e21fd869c",
   "metadata": {},
   "outputs": [
    {
     "data": {
      "text/plain": [
       "Index(['age', 'workclass', 'education.num', 'marital.status', 'occupation',\n",
       "       'relationship', 'race', 'sex', 'hours.per.week', 'income', 'State',\n",
       "       'index', 'Results', 'Model'],\n",
       "      dtype='object')"
      ]
     },
     "execution_count": 10,
     "metadata": {},
     "output_type": "execute_result"
    }
   ],
   "source": [
    "# Drop unneccesary Columns\n",
    "Actual = Actual.drop(columns= [\"fnlwgt\", \"education\", \"capital.gain\", \"capital.loss\", \"native.country\"])\n",
    "Actual.columns"
   ]
  },
  {
   "cell_type": "code",
   "execution_count": 11,
   "id": "973c48f8-071c-4c0d-b4d1-ce59bc32ba36",
   "metadata": {},
   "outputs": [],
   "source": [
    "# Reorder columns manually\n",
    "desired_columns = ['index', 'age', 'workclass', 'education.num', 'marital.status',\n",
    "       'occupation', 'relationship', 'race', 'sex', 'hours.per.week', 'income',\n",
    "       'State', 'Results', 'Model']\n",
    "Actual = Actual[desired_columns]"
   ]
  },
  {
   "cell_type": "code",
   "execution_count": 12,
   "id": "b965f081-4e36-4edb-a14f-fdb378c4c50f",
   "metadata": {},
   "outputs": [],
   "source": [
    "# Rename Columns\n",
    "Actual.columns = ['index', 'age', 'workclass', 'education_num', 'marital_status',\n",
    "       'occupation', 'relationship', 'race', 'sex', 'hours_per_week', 'income',\n",
    "       'state', 'Results', 'Model']"
   ]
  },
  {
   "cell_type": "code",
   "execution_count": 13,
   "id": "2bffa0a0-b86e-4243-bb3f-5da7233d2e27",
   "metadata": {},
   "outputs": [],
   "source": [
    "# Combine the dataframes row-wise\n",
    "combined_df = pd.concat([combined_df, Actual], ignore_index=True)"
   ]
  },
  {
   "cell_type": "code",
   "execution_count": 14,
   "id": "bebf8768-d6e8-48fe-a402-f2326f5edaaf",
   "metadata": {},
   "outputs": [
    {
     "data": {
      "text/html": [
       "<div>\n",
       "<style scoped>\n",
       "    .dataframe tbody tr th:only-of-type {\n",
       "        vertical-align: middle;\n",
       "    }\n",
       "\n",
       "    .dataframe tbody tr th {\n",
       "        vertical-align: top;\n",
       "    }\n",
       "\n",
       "    .dataframe thead th {\n",
       "        text-align: right;\n",
       "    }\n",
       "</style>\n",
       "<table border=\"1\" class=\"dataframe\">\n",
       "  <thead>\n",
       "    <tr style=\"text-align: right;\">\n",
       "      <th></th>\n",
       "      <th>index</th>\n",
       "      <th>age</th>\n",
       "      <th>workclass</th>\n",
       "      <th>education_num</th>\n",
       "      <th>marital_status</th>\n",
       "      <th>occupation</th>\n",
       "      <th>relationship</th>\n",
       "      <th>race</th>\n",
       "      <th>sex</th>\n",
       "      <th>hours_per_week</th>\n",
       "      <th>income</th>\n",
       "      <th>state</th>\n",
       "      <th>Results</th>\n",
       "      <th>Model</th>\n",
       "    </tr>\n",
       "  </thead>\n",
       "  <tbody>\n",
       "    <tr>\n",
       "      <th>71417</th>\n",
       "      <td>N/A</td>\n",
       "      <td>22</td>\n",
       "      <td>Private</td>\n",
       "      <td>10</td>\n",
       "      <td>Never-married</td>\n",
       "      <td>Protective-serv</td>\n",
       "      <td>Not-in-family</td>\n",
       "      <td>White</td>\n",
       "      <td>Male</td>\n",
       "      <td>40</td>\n",
       "      <td>&lt;=50K</td>\n",
       "      <td>North Dakota</td>\n",
       "      <td>N/A</td>\n",
       "      <td>Actual</td>\n",
       "    </tr>\n",
       "    <tr>\n",
       "      <th>71418</th>\n",
       "      <td>N/A</td>\n",
       "      <td>27</td>\n",
       "      <td>Private</td>\n",
       "      <td>12</td>\n",
       "      <td>Married-civ-spouse</td>\n",
       "      <td>Tech-support</td>\n",
       "      <td>Wife</td>\n",
       "      <td>White</td>\n",
       "      <td>Female</td>\n",
       "      <td>38</td>\n",
       "      <td>&lt;=50K</td>\n",
       "      <td>Texas</td>\n",
       "      <td>N/A</td>\n",
       "      <td>Actual</td>\n",
       "    </tr>\n",
       "    <tr>\n",
       "      <th>71419</th>\n",
       "      <td>N/A</td>\n",
       "      <td>40</td>\n",
       "      <td>Private</td>\n",
       "      <td>9</td>\n",
       "      <td>Married-civ-spouse</td>\n",
       "      <td>Machine-op-inspct</td>\n",
       "      <td>Husband</td>\n",
       "      <td>White</td>\n",
       "      <td>Male</td>\n",
       "      <td>40</td>\n",
       "      <td>&gt;50K</td>\n",
       "      <td>Colorado</td>\n",
       "      <td>N/A</td>\n",
       "      <td>Actual</td>\n",
       "    </tr>\n",
       "    <tr>\n",
       "      <th>71420</th>\n",
       "      <td>N/A</td>\n",
       "      <td>58</td>\n",
       "      <td>Private</td>\n",
       "      <td>9</td>\n",
       "      <td>Widowed</td>\n",
       "      <td>Adm-clerical</td>\n",
       "      <td>Unmarried</td>\n",
       "      <td>White</td>\n",
       "      <td>Female</td>\n",
       "      <td>40</td>\n",
       "      <td>&lt;=50K</td>\n",
       "      <td>Kansas</td>\n",
       "      <td>N/A</td>\n",
       "      <td>Actual</td>\n",
       "    </tr>\n",
       "    <tr>\n",
       "      <th>71421</th>\n",
       "      <td>N/A</td>\n",
       "      <td>22</td>\n",
       "      <td>Private</td>\n",
       "      <td>9</td>\n",
       "      <td>Never-married</td>\n",
       "      <td>Adm-clerical</td>\n",
       "      <td>Own-child</td>\n",
       "      <td>White</td>\n",
       "      <td>Male</td>\n",
       "      <td>20</td>\n",
       "      <td>&lt;=50K</td>\n",
       "      <td>New Hampshire</td>\n",
       "      <td>N/A</td>\n",
       "      <td>Actual</td>\n",
       "    </tr>\n",
       "  </tbody>\n",
       "</table>\n",
       "</div>"
      ],
      "text/plain": [
       "      index  age workclass  education_num      marital_status  \\\n",
       "71417   N/A   22   Private             10       Never-married   \n",
       "71418   N/A   27   Private             12  Married-civ-spouse   \n",
       "71419   N/A   40   Private              9  Married-civ-spouse   \n",
       "71420   N/A   58   Private              9             Widowed   \n",
       "71421   N/A   22   Private              9       Never-married   \n",
       "\n",
       "              occupation   relationship   race     sex  hours_per_week income  \\\n",
       "71417    Protective-serv  Not-in-family  White    Male              40  <=50K   \n",
       "71418       Tech-support           Wife  White  Female              38  <=50K   \n",
       "71419  Machine-op-inspct        Husband  White    Male              40   >50K   \n",
       "71420       Adm-clerical      Unmarried  White  Female              40  <=50K   \n",
       "71421       Adm-clerical      Own-child  White    Male              20  <=50K   \n",
       "\n",
       "               state Results   Model  \n",
       "71417   North Dakota     N/A  Actual  \n",
       "71418          Texas     N/A  Actual  \n",
       "71419       Colorado     N/A  Actual  \n",
       "71420         Kansas     N/A  Actual  \n",
       "71421  New Hampshire     N/A  Actual  "
      ]
     },
     "execution_count": 14,
     "metadata": {},
     "output_type": "execute_result"
    }
   ],
   "source": [
    "# Confirm Results\n",
    "combined_df.tail()"
   ]
  },
  {
   "cell_type": "code",
   "execution_count": 15,
   "id": "a07e6987-6744-4575-ac0e-020a94ae1f06",
   "metadata": {},
   "outputs": [],
   "source": [
    "# Export Data\n",
    "combined_df.to_csv(\"../Data/mergedDataFrame.csv\")"
   ]
  },
  {
   "cell_type": "code",
   "execution_count": null,
   "id": "e26611ce-9a33-4f01-8ab2-fee164a60681",
   "metadata": {},
   "outputs": [],
   "source": []
  }
 ],
 "metadata": {
  "kernelspec": {
   "display_name": "Python 3 (ipykernel)",
   "language": "python",
   "name": "python3"
  },
  "language_info": {
   "codemirror_mode": {
    "name": "ipython",
    "version": 3
   },
   "file_extension": ".py",
   "mimetype": "text/x-python",
   "name": "python",
   "nbconvert_exporter": "python",
   "pygments_lexer": "ipython3",
   "version": "3.12.3"
  },
  "widgets": {
   "application/vnd.jupyter.widget-state+json": {
    "state": {},
    "version_major": 2,
    "version_minor": 0
   }
  }
 },
 "nbformat": 4,
 "nbformat_minor": 5
}
